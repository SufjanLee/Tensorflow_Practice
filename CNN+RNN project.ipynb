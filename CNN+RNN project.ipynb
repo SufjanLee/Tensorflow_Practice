{
 "cells": [
  {
   "cell_type": "markdown",
   "metadata": {},
   "source": [
    "# The first taste of CNN - > RNN\n",
    "## Read the data-Cifar10"
   ]
  },
  {
   "cell_type": "code",
   "execution_count": 1,
   "metadata": {
    "ExecuteTime": {
     "end_time": "2020-02-27T08:22:53.043010Z",
     "start_time": "2020-02-27T08:22:50.881255Z"
    }
   },
   "outputs": [],
   "source": [
    "import tensorflow as tf\n",
    "from tensorflow import keras\n",
    "from tensorflow.keras import layers\n",
    "import matplotlib.pyplot as plt\n"
   ]
  },
  {
   "cell_type": "code",
   "execution_count": 2,
   "metadata": {
    "ExecuteTime": {
     "end_time": "2020-02-27T08:22:53.745458Z",
     "start_time": "2020-02-27T08:22:53.044549Z"
    }
   },
   "outputs": [],
   "source": [
    "(x_train, y_train), (x_test, y_test) = keras.datasets.cifar10.load_data()"
   ]
  },
  {
   "cell_type": "code",
   "execution_count": 3,
   "metadata": {
    "ExecuteTime": {
     "end_time": "2020-02-27T08:22:53.752902Z",
     "start_time": "2020-02-27T08:22:53.746469Z"
    }
   },
   "outputs": [
    {
     "data": {
      "text/plain": [
       "(50000, 32, 32, 3)"
      ]
     },
     "execution_count": 3,
     "metadata": {},
     "output_type": "execute_result"
    }
   ],
   "source": [
    "x_train.shape"
   ]
  },
  {
   "cell_type": "code",
   "execution_count": 4,
   "metadata": {
    "ExecuteTime": {
     "end_time": "2020-02-27T08:22:53.890532Z",
     "start_time": "2020-02-27T08:22:53.754895Z"
    }
   },
   "outputs": [
    {
     "data": {
      "image/png": "[encoded data removed]",
      "text/plain": [
       "<Figure size 432x288 with 1 Axes>"
      ]
     },
     "metadata": {
      "needs_background": "light"
     },
     "output_type": "display_data"
    }
   ],
   "source": [
    "plt.imshow(x_train[1])\n",
    "plt.show()"
   ]
  },
  {
   "cell_type": "markdown",
   "metadata": {},
   "source": [
    "## to_categorical the labels"
   ]
  },
  {
   "cell_type": "code",
   "execution_count": 5,
   "metadata": {
    "ExecuteTime": {
     "end_time": "2020-02-27T08:22:53.898512Z",
     "start_time": "2020-02-27T08:22:53.892527Z"
    }
   },
   "outputs": [],
   "source": [
    "# 对label 进行one-hot\n",
    "y_train = keras.utils.to_categorical(y_train)\n",
    "y_test = keras.utils.to_categorical(y_test)"
   ]
  },
  {
   "cell_type": "code",
   "execution_count": 6,
   "metadata": {
    "ExecuteTime": {
     "end_time": "2020-02-27T08:22:53.907488Z",
     "start_time": "2020-02-27T08:22:53.900506Z"
    }
   },
   "outputs": [
    {
     "name": "stdout",
     "output_type": "stream",
     "text": [
      "(50000, 32, 32, 3)   (50000, 10)\n",
      "(10000, 32, 32, 3)   (10000, 10)\n"
     ]
    }
   ],
   "source": [
    "# 32 X 32 RGB image\n",
    "print(x_train.shape, ' ', y_train.shape)\n",
    "print(x_test.shape, ' ', y_test.shape)"
   ]
  },
  {
   "cell_type": "markdown",
   "metadata": {},
   "source": [
    "## Build the model\n",
    "### CNN layer"
   ]
  },
  {
   "cell_type": "code",
   "execution_count": 7,
   "metadata": {
    "ExecuteTime": {
     "end_time": "2020-02-27T08:22:53.961343Z",
     "start_time": "2020-02-27T08:22:53.910479Z"
    }
   },
   "outputs": [],
   "source": [
    "model = keras.Sequential()\n",
    "x_shape = x_train.shape\n",
    "# if layers is the first layer, need to use 'input_shape=()'\n",
    "model.add(layers.Conv2D(input_shape=(x_shape[1], x_shape[2], x_shape[3]),\n",
    "                       filters=32, kernel_size=(3,3), strides=(1,1), \n",
    "                       padding='same', activation='relu'))\n",
    "model.add(layers.MaxPool2D(pool_size=(2,2)))"
   ]
  },
  {
   "cell_type": "code",
   "execution_count": 8,
   "metadata": {
    "ExecuteTime": {
     "end_time": "2020-02-27T08:22:53.973311Z",
     "start_time": "2020-02-27T08:22:53.966336Z"
    }
   },
   "outputs": [
    {
     "name": "stdout",
     "output_type": "stream",
     "text": [
      "(None, 16, 16, 32)\n"
     ]
    }
   ],
   "source": [
    "print(model.output_shape)"
   ]
  },
  {
   "cell_type": "markdown",
   "metadata": {},
   "source": [
    "### RNN layer"
   ]
  },
  {
   "cell_type": "code",
   "execution_count": 9,
   "metadata": {
    "ExecuteTime": {
     "end_time": "2020-02-27T08:22:54.508843Z",
     "start_time": "2020-02-27T08:22:53.976310Z"
    }
   },
   "outputs": [],
   "source": [
    "model.add(layers.Reshape(target_shape=(16*16, 32)))\n",
    "model.add(layers.LSTM(50, return_sequences=False))\n",
    "\n",
    "model.add(layers.Dense(10, activation='softmax'))"
   ]
  },
  {
   "cell_type": "markdown",
   "metadata": {},
   "source": [
    "## Compile the model"
   ]
  },
  {
   "cell_type": "code",
   "execution_count": 10,
   "metadata": {
    "ExecuteTime": {
     "end_time": "2020-02-27T08:22:54.618328Z",
     "start_time": "2020-02-27T08:22:54.508843Z"
    }
   },
   "outputs": [
    {
     "name": "stdout",
     "output_type": "stream",
     "text": [
      "Model: \"sequential\"\n",
      "_________________________________________________________________\n",
      "Layer (type)                 Output Shape              Param #   \n",
      "=================================================================\n",
      "conv2d (Conv2D)              (None, 32, 32, 32)        896       \n",
      "_________________________________________________________________\n",
      "max_pooling2d (MaxPooling2D) (None, 16, 16, 32)        0         \n",
      "_________________________________________________________________\n",
      "reshape (Reshape)            (None, 256, 32)           0         \n",
      "_________________________________________________________________\n",
      "lstm (LSTM)                  (None, 50)                16600     \n",
      "_________________________________________________________________\n",
      "dense (Dense)                (None, 10)                510       \n",
      "=================================================================\n",
      "Total params: 18,006\n",
      "Trainable params: 18,006\n",
      "Non-trainable params: 0\n",
      "_________________________________________________________________\n"
     ]
    }
   ],
   "source": [
    "model.compile(optimizer=keras.optimizers.Adam(),\n",
    "             loss=keras.losses.CategoricalCrossentropy(),\n",
    "             metrics=['accuracy'])\n",
    "model.summary()"
   ]
  },
  {
   "cell_type": "markdown",
   "metadata": {},
   "source": [
    "## Train the model"
   ]
  },
  {
   "cell_type": "code",
   "execution_count": 11,
   "metadata": {
    "ExecuteTime": {
     "end_time": "2020-02-27T09:01:21.769870Z",
     "start_time": "2020-02-27T08:22:54.623318Z"
    }
   },
   "outputs": [
    {
     "name": "stdout",
     "output_type": "stream",
     "text": [
      "Train on 45000 samples, validate on 5000 samples\n",
      "Epoch 1/5\n",
      "45000/45000 [==============================] - 456s 10ms/sample - loss: 2.1586 - accuracy: 0.1970 - val_loss: 2.1037 - val_accuracy: 0.2280\n",
      "Epoch 2/5\n",
      "45000/45000 [==============================] - 460s 10ms/sample - loss: 1.9891 - accuracy: 0.2655 - val_loss: 1.9510 - val_accuracy: 0.2766\n",
      "Epoch 3/5\n",
      "45000/45000 [==============================] - 466s 10ms/sample - loss: 1.8841 - accuracy: 0.3030 - val_loss: 1.8433 - val_accuracy: 0.3118\n",
      "Epoch 4/5\n",
      "45000/45000 [==============================] - 460s 10ms/sample - loss: 1.7606 - accuracy: 0.3432 - val_loss: 1.7262 - val_accuracy: 0.3606\n",
      "Epoch 5/5\n",
      "45000/45000 [==============================] - 465s 10ms/sample - loss: 1.6776 - accuracy: 0.3818 - val_loss: 1.6311 - val_accuracy: 0.3990\n"
     ]
    }
   ],
   "source": [
    "history = model.fit(x_train, y_train, batch_size=32,epochs=5, validation_split=0.1)"
   ]
  },
  {
   "cell_type": "code",
   "execution_count": 12,
   "metadata": {
    "ExecuteTime": {
     "end_time": "2020-02-27T09:01:22.051068Z",
     "start_time": "2020-02-27T09:01:21.773859Z"
    }
   },
   "outputs": [
    {
     "data": {
      "image/png": "[encoded data removed]",
      "text/plain": [
       "<Figure size 432x288 with 1 Axes>"
      ]
     },
     "metadata": {
      "needs_background": "light"
     },
     "output_type": "display_data"
    }
   ],
   "source": [
    "plt.plot(history.history['accuracy'])\n",
    "plt.plot(history.history['val_accuracy'])\n",
    "plt.legend(['training', 'valivation'], loc='upper left')\n",
    "plt.show()"
   ]
  },
  {
   "cell_type": "markdown",
   "metadata": {},
   "source": [
    "## Evaluate the model"
   ]
  },
  {
   "cell_type": "code",
   "execution_count": 13,
   "metadata": {
    "ExecuteTime": {
     "end_time": "2020-02-27T09:01:40.992655Z",
     "start_time": "2020-02-27T09:01:22.052077Z"
    }
   },
   "outputs": [
    {
     "name": "stdout",
     "output_type": "stream",
     "text": [
      "10000/10000 [==============================] - 19s 2ms/sample - loss: 1.6391 - accuracy: 0.3940\n",
      "loss: 1.639, accuracy: 0.394\n"
     ]
    }
   ],
   "source": [
    "res_1 = model.evaluate(x_test,y_test)\n",
    "print('loss: {:.3f}, accuracy: {:.3f}'.format(res_1[0], res_1[1]))"
   ]
  },
  {
   "cell_type": "markdown",
   "metadata": {},
   "source": [
    "# CNN+RNN combination\n",
    "## Build the model\n",
    "### CNN layer"
   ]
  },
  {
   "cell_type": "code",
   "execution_count": 14,
   "metadata": {
    "ExecuteTime": {
     "end_time": "2020-02-27T09:01:41.071444Z",
     "start_time": "2020-02-27T09:01:40.996645Z"
    }
   },
   "outputs": [],
   "source": [
    "x_shape = x_train.shape\n",
    "inn = layers.Input(shape=(x_shape[1], x_shape[2], x_shape[3]))\n",
    "conv = layers.Conv2D(filters=32,kernel_size=(3,3), strides=(1,1),\n",
    "                    padding='same', activation='relu')(inn)\n",
    "pool = layers.MaxPool2D(pool_size=(2,2), padding='same')(conv)\n",
    "flat = layers.Flatten()(pool)\n",
    "dense1 = layers.Dense(64)(flat)"
   ]
  },
  {
   "cell_type": "markdown",
   "metadata": {},
   "source": [
    "### RNN layer"
   ]
  },
  {
   "cell_type": "code",
   "execution_count": 15,
   "metadata": {
    "ExecuteTime": {
     "end_time": "2020-02-27T09:01:41.468090Z",
     "start_time": "2020-02-27T09:01:41.074438Z"
    }
   },
   "outputs": [],
   "source": [
    "reshape = layers.Reshape(target_shape=(x_shape[1]*x_shape[2], x_shape[3]))(inn)\n",
    "lstm_layer = layers.LSTM(32, return_sequences=False)(reshape)\n",
    "dense2 = layers.Dense(64)(lstm_layer)\n"
   ]
  },
  {
   "cell_type": "markdown",
   "metadata": {},
   "source": [
    "### combine CNN+RNN"
   ]
  },
  {
   "cell_type": "code",
   "execution_count": 16,
   "metadata": {
    "ExecuteTime": {
     "end_time": "2020-02-27T09:01:41.522464Z",
     "start_time": "2020-02-27T09:01:41.469029Z"
    }
   },
   "outputs": [
    {
     "name": "stdout",
     "output_type": "stream",
     "text": [
      "Model: \"model\"\n",
      "__________________________________________________________________________________________________\n",
      "Layer (type)                    Output Shape         Param #     Connected to                     \n",
      "==================================================================================================\n",
      "input_1 (InputLayer)            [(None, 32, 32, 3)]  0                                            \n",
      "__________________________________________________________________________________________________\n",
      "conv2d_1 (Conv2D)               (None, 32, 32, 32)   896         input_1[0][0]                    \n",
      "__________________________________________________________________________________________________\n",
      "max_pooling2d_1 (MaxPooling2D)  (None, 16, 16, 32)   0           conv2d_1[0][0]                   \n",
      "__________________________________________________________________________________________________\n",
      "reshape_1 (Reshape)             (None, 1024, 3)      0           input_1[0][0]                    \n",
      "__________________________________________________________________________________________________\n",
      "flatten (Flatten)               (None, 8192)         0           max_pooling2d_1[0][0]            \n",
      "__________________________________________________________________________________________________\n",
      "lstm_1 (LSTM)                   (None, 32)           4608        reshape_1[0][0]                  \n",
      "__________________________________________________________________________________________________\n",
      "dense_1 (Dense)                 (None, 64)           524352      flatten[0][0]                    \n",
      "__________________________________________________________________________________________________\n",
      "dense_2 (Dense)                 (None, 64)           2112        lstm_1[0][0]                     \n",
      "__________________________________________________________________________________________________\n",
      "concatenate (Concatenate)       (None, 128)          0           dense_1[0][0]                    \n",
      "                                                                 dense_2[0][0]                    \n",
      "__________________________________________________________________________________________________\n",
      "dense_3 (Dense)                 (None, 10)           1290        concatenate[0][0]                \n",
      "==================================================================================================\n",
      "Total params: 533,258\n",
      "Trainable params: 533,258\n",
      "Non-trainable params: 0\n",
      "__________________________________________________________________________________________________\n"
     ]
    }
   ],
   "source": [
    "merged_layer = layers.concatenate([dense1, dense2])\n",
    "outt = layers.Dense(10,activation='softmax')(merged_layer)\n",
    "model = keras.Model(inputs=inn, outputs=outt)\n",
    "model.compile(optimizer=keras.optimizers.Adam(),\n",
    "             loss=keras.losses.CategoricalCrossentropy(),\n",
    "             metrics=['accuracy'])\n",
    "model.summary()"
   ]
  },
  {
   "cell_type": "markdown",
   "metadata": {},
   "source": [
    "## Train the model"
   ]
  },
  {
   "cell_type": "code",
   "execution_count": 17,
   "metadata": {
    "ExecuteTime": {
     "end_time": "2020-02-27T10:25:01.056471Z",
     "start_time": "2020-02-27T09:01:41.524458Z"
    }
   },
   "outputs": [
    {
     "name": "stdout",
     "output_type": "stream",
     "text": [
      "Train on 45000 samples, validate on 5000 samples\n",
      "Epoch 1/5\n",
      "45000/45000 [==============================] - 891s 20ms/sample - loss: 9.1783 - accuracy: 0.2985 - val_loss: 1.9006 - val_accuracy: 0.3534\n",
      "Epoch 2/5\n",
      "45000/45000 [==============================] - 1010s 22ms/sample - loss: 1.7790 - accuracy: 0.3867 - val_loss: 1.8329 - val_accuracy: 0.3714\n",
      "Epoch 3/5\n",
      "45000/45000 [==============================] - 1107s 25ms/sample - loss: 1.6348 - accuracy: 0.4287 - val_loss: 1.7645 - val_accuracy: 0.4134\n",
      "Epoch 4/5\n",
      "45000/45000 [==============================] - 1019s 23ms/sample - loss: 1.5292 - accuracy: 0.4664 - val_loss: 1.7474 - val_accuracy: 0.4290\n",
      "Epoch 5/5\n",
      "45000/45000 [==============================] - 972s 22ms/sample - loss: 1.4465 - accuracy: 0.4945 - val_loss: 1.6742 - val_accuracy: 0.4542\n"
     ]
    }
   ],
   "source": [
    "# can increase accuracy by increasing batchs\n",
    "history2 = model.fit(x_train, y_train, batch_size=64,epochs=5, validation_split=0.1)"
   ]
  },
  {
   "cell_type": "code",
   "execution_count": 18,
   "metadata": {
    "ExecuteTime": {
     "end_time": "2020-02-27T10:25:01.385630Z",
     "start_time": "2020-02-27T10:25:01.078452Z"
    }
   },
   "outputs": [
    {
     "data": {
      "image/png": "[encoded data removed]",
      "text/plain": [
       "<Figure size 432x288 with 1 Axes>"
      ]
     },
     "metadata": {
      "needs_background": "light"
     },
     "output_type": "display_data"
    }
   ],
   "source": [
    "plt.plot(history2.history['accuracy'])\n",
    "plt.plot(history2.history['val_accuracy'])\n",
    "plt.legend(['training', 'valivation'], loc='upper left')\n",
    "plt.show()"
   ]
  },
  {
   "cell_type": "markdown",
   "metadata": {},
   "source": [
    "## Evaluate the model"
   ]
  },
  {
   "cell_type": "code",
   "execution_count": 19,
   "metadata": {
    "ExecuteTime": {
     "end_time": "2020-02-27T10:26:02.360751Z",
     "start_time": "2020-02-27T10:25:01.388623Z"
    }
   },
   "outputs": [
    {
     "name": "stdout",
     "output_type": "stream",
     "text": [
      "10000/10000 [==============================] - 61s 6ms/sample - loss: 1.6945 - accuracy: 0.4374\n",
      "loss: 1.694, accuracy: 0.437\n"
     ]
    }
   ],
   "source": [
    "res_2 = model.evaluate(x_test,y_test)\n",
    "print('loss: {:.3f}, accuracy: {:.3f}'.format(res_2[0], res_2[1]))"
   ]
  }
 ],
 "metadata": {
  "kernelspec": {
   "display_name": "Python 3",
   "language": "python",
   "name": "python3"
  },
  "language_info": {
   "codemirror_mode": {
    "name": "ipython",
    "version": 3
   },
   "file_extension": ".py",
   "mimetype": "text/x-python",
   "name": "python",
   "nbconvert_exporter": "python",
   "pygments_lexer": "ipython3",
   "version": "3.7.4"
  },
  "toc": {
   "base_numbering": 1,
   "nav_menu": {},
   "number_sections": true,
   "sideBar": true,
   "skip_h1_title": false,
   "title_cell": "Table of Contents",
   "title_sidebar": "Contents",
   "toc_cell": false,
   "toc_position": {},
   "toc_section_display": true,
   "toc_window_display": false
  }
 },
 "nbformat": 4,
 "nbformat_minor": 2
}
