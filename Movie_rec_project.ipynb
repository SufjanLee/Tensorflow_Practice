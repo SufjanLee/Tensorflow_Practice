{
 "cells": [
  {
   "cell_type": "markdown",
   "metadata": {},
   "source": [
    "# Movie_Recommendation\n",
    "## Read the data"
   ]
  },
  {
   "cell_type": "code",
   "execution_count": null,
   "metadata": {
    "ExecuteTime": {
     "end_time": "2020-02-29T05:03:24.317638Z",
     "start_time": "2020-02-29T05:03:24.314515Z"
    }
   },
   "outputs": [],
   "source": [
    "import pandas as pd\n",
    "import numpy as np\n",
    "import tensorflow as tf"
   ]
  },
  {
   "cell_type": "markdown",
   "metadata": {},
   "source": [
    "### Show MemoryError when read the dataset\n",
    "#### Try to read the data in chunks (fails)"
   ]
  },
  {
   "cell_type": "code",
   "execution_count": null,
   "metadata": {
    "ExecuteTime": {
     "end_time": "2020-02-29T05:03:25.808349Z",
     "start_time": "2020-02-29T05:03:25.802372Z"
    }
   },
   "outputs": [],
   "source": [
    "# def data(path):\n",
    "#     f = open(path)\n",
    "    \n",
    "#     data = pd.read_csv(path, sep=',', engine='python', iterator=True)\n",
    "#     loop = True\n",
    "#     chunkSize = 1000\n",
    "#     chunks = []\n",
    "#     index = 0\n",
    "#     while loop:\n",
    "#         try:\n",
    "# #             print(index)\n",
    "#             chunk = data.get_chunk(chunkSize)\n",
    "#             chunks.append(chunk)\n",
    "#             index += 1\n",
    "\n",
    "#         except StopIteration:\n",
    "#             loop = False\n",
    "#             print(\"Iteration is stopped.\")\n",
    "#     print('开始合并')\n",
    "#     data = pd.concat(chunks, ignore_index=True)\n",
    "#     return data"
   ]
  },
  {
   "cell_type": "code",
   "execution_count": null,
   "metadata": {
    "ExecuteTime": {
     "end_time": "2020-02-29T05:05:32.355030Z",
     "start_time": "2020-02-29T05:03:28.177910Z"
    }
   },
   "outputs": [],
   "source": [
    "# ratings_df = data('ml-25m/ratings.csv')\n",
    "# ratings_df"
   ]
  },
  {
   "cell_type": "code",
   "execution_count": null,
   "metadata": {
    "ExecuteTime": {
     "end_time": "2020-02-29T04:49:42.150961Z",
     "start_time": "2020-02-29T04:49:36.400785Z"
    }
   },
   "outputs": [],
   "source": [
    "ratings_df = pd.read_csv('ml-25m/ratings.csv')\n",
    "movies_df = pd.read_csv('ml-25m/movies.csv')\n",
    "movies_df['movieRow'] = movies_df.index"
   ]
  },
  {
   "cell_type": "code",
   "execution_count": null,
   "metadata": {
    "ExecuteTime": {
     "end_time": "2020-02-29T04:50:08.984095Z",
     "start_time": "2020-02-29T04:50:08.973119Z"
    }
   },
   "outputs": [],
   "source": [
    "ratings_df.dtypes"
   ]
  },
  {
   "cell_type": "code",
   "execution_count": null,
   "metadata": {
    "ExecuteTime": {
     "end_time": "2020-02-29T04:50:10.166653Z",
     "start_time": "2020-02-29T04:50:09.709007Z"
    }
   },
   "outputs": [],
   "source": [
    "ratings_df = ratings_df.astype(np.int16)\n",
    "ratings_df"
   ]
  },
  {
   "cell_type": "code",
   "execution_count": null,
   "metadata": {
    "ExecuteTime": {
     "end_time": "2020-02-29T04:50:13.625149Z",
     "start_time": "2020-02-29T04:50:13.618168Z"
    }
   },
   "outputs": [],
   "source": [
    "ratings_df.tail()"
   ]
  },
  {
   "cell_type": "code",
   "execution_count": null,
   "metadata": {
    "ExecuteTime": {
     "end_time": "2020-02-29T04:50:20.618948Z",
     "start_time": "2020-02-29T04:50:20.611008Z"
    }
   },
   "outputs": [],
   "source": [
    "movies_df.tail()"
   ]
  },
  {
   "cell_type": "markdown",
   "metadata": {},
   "source": [
    "## compress the volumn"
   ]
  },
  {
   "cell_type": "code",
   "execution_count": null,
   "metadata": {
    "ExecuteTime": {
     "end_time": "2020-02-29T04:50:28.215083Z",
     "start_time": "2020-02-29T04:50:28.207131Z"
    }
   },
   "outputs": [],
   "source": [
    "ratings_df = ratings_df.iloc[:1000000]\n",
    "ratings_df.tail()"
   ]
  },
  {
   "cell_type": "code",
   "execution_count": null,
   "metadata": {
    "ExecuteTime": {
     "end_time": "2020-02-29T04:50:29.943804Z",
     "start_time": "2020-02-29T04:50:29.929842Z"
    }
   },
   "outputs": [],
   "source": [
    "## select attributes from movies_df\n",
    "movies_df = movies_df[['movieRow', 'movieId', 'title']]\n",
    "movies_df.tail()"
   ]
  },
  {
   "cell_type": "code",
   "execution_count": null,
   "metadata": {
    "ExecuteTime": {
     "end_time": "2020-02-29T04:50:33.994206Z",
     "start_time": "2020-02-29T04:50:33.834135Z"
    }
   },
   "outputs": [],
   "source": [
    "#将rating_df中的movieId替换为行号\n",
    "ratings_df = pd.merge(ratings_df, movies_df, on='movieId')\n",
    "ratings_df = ratings_df[['userId', 'movieRow', 'rating']]"
   ]
  },
  {
   "cell_type": "code",
   "execution_count": null,
   "metadata": {
    "ExecuteTime": {
     "end_time": "2020-02-29T04:50:34.818354Z",
     "start_time": "2020-02-29T04:50:34.808404Z"
    }
   },
   "outputs": [],
   "source": [
    "ratings_df"
   ]
  },
  {
   "cell_type": "markdown",
   "metadata": {},
   "source": [
    "## Build rating matrix"
   ]
  },
  {
   "cell_type": "code",
   "execution_count": null,
   "metadata": {
    "ExecuteTime": {
     "end_time": "2020-02-29T04:50:37.016835Z",
     "start_time": "2020-02-29T04:50:36.999354Z"
    }
   },
   "outputs": [],
   "source": [
    "# 获取最大用户数目及电影数目\n",
    "userNo = ratings_df['userId'].max() + 1\n",
    "movieNo = ratings_df['movieRow'].max() + 1\n",
    "print('max userNo: {},min movieNo: {}'.format(userNo, movieNo))"
   ]
  },
  {
   "cell_type": "code",
   "execution_count": null,
   "metadata": {
    "ExecuteTime": {
     "end_time": "2020-02-29T04:51:46.153725Z",
     "start_time": "2020-02-29T04:50:48.924718Z"
    }
   },
   "outputs": [],
   "source": [
    "# create a matrix: row movies, columns users\n",
    "rating = np.zeros((movieNo, userNo))\n",
    "\n",
    "flag = 0\n",
    "ratings_df_length = np.shape(ratings_df)[0]\n",
    "#查看矩阵ratings_df的第一维度是多少\n",
    "# interrows（），对表格ratings_df进行遍历\n",
    "for index, row in ratings_df.iterrows():\n",
    "    #     print(index)\n",
    "    #     print(row)\n",
    "    # 将ratings_df表里的'movieRow'和'userId'列，填上row的‘评分’\n",
    "    rating[int(row['movieRow']), int(row['userId'])] = row['rating']\n",
    "\n",
    "del index, row"
   ]
  },
  {
   "cell_type": "code",
   "execution_count": null,
   "metadata": {
    "ExecuteTime": {
     "end_time": "2020-02-29T04:52:21.720917Z",
     "start_time": "2020-02-29T04:52:21.700231Z"
    }
   },
   "outputs": [],
   "source": [
    "rating"
   ]
  },
  {
   "cell_type": "code",
   "execution_count": null,
   "metadata": {
    "ExecuteTime": {
     "end_time": "2020-02-29T04:52:22.896664Z",
     "start_time": "2020-02-29T04:52:22.663936Z"
    }
   },
   "outputs": [],
   "source": [
    "record = rating > 0\n",
    "print(record)\n",
    "record = np.array(record,\n",
    "                  dtype=int)  #将record的布尔型转化为0和1,0:用户没有对此电影评分；1：用户对此电影进行了评分\n",
    "print(record)"
   ]
  },
  {
   "cell_type": "markdown",
   "metadata": {},
   "source": [
    "## Normalize ratings "
   ]
  },
  {
   "cell_type": "code",
   "execution_count": null,
   "metadata": {
    "ExecuteTime": {
     "end_time": "2020-02-29T04:52:29.724518Z",
     "start_time": "2020-02-29T04:52:29.719531Z"
    }
   },
   "outputs": [],
   "source": [
    "def normalizeRatings(rating, record):\n",
    "    # m: No. of movies\n",
    "    # n: No. of users\n",
    "    m, n = rating.shape\n",
    "\n",
    "    rating_mean = np.zeros((m, 1))\n",
    "    # 每部电影的平均得分\n",
    "    rating_norm = np.zeros((m, n))\n",
    "    # 处理过的评分\n",
    "    for i in range(m):\n",
    "        # idx: all indeces of records with ratings\n",
    "        idx = record[i, :] != 0\n",
    "\n",
    "        # calculate mean rating of each movie\n",
    "        rating_mean[i] = np.mean(rating[i, idx])\n",
    "\n",
    "        # normal = rating - mean\n",
    "        rating_norm[i, idx] -= rating_mean[i]\n",
    "\n",
    "    return rating_norm, rating_mean"
   ]
  },
  {
   "cell_type": "code",
   "execution_count": null,
   "metadata": {
    "ExecuteTime": {
     "end_time": "2020-02-29T04:52:49.012986Z",
     "start_time": "2020-02-29T04:52:48.408845Z"
    }
   },
   "outputs": [],
   "source": [
    "rating_norm, rating_mean = normalizeRatings(rating, record)"
   ]
  },
  {
   "cell_type": "code",
   "execution_count": null,
   "metadata": {
    "ExecuteTime": {
     "end_time": "2020-02-29T04:52:55.247896Z",
     "start_time": "2020-02-29T04:52:55.242414Z"
    }
   },
   "outputs": [],
   "source": [
    "rating_mean"
   ]
  },
  {
   "cell_type": "code",
   "execution_count": null,
   "metadata": {
    "ExecuteTime": {
     "end_time": "2020-02-29T04:52:58.255029Z",
     "start_time": "2020-02-29T04:52:58.250039Z"
    }
   },
   "outputs": [],
   "source": [
    "rating_norm"
   ]
  },
  {
   "cell_type": "code",
   "execution_count": null,
   "metadata": {
    "ExecuteTime": {
     "end_time": "2020-02-29T04:53:02.260420Z",
     "start_time": "2020-02-29T04:53:02.243512Z"
    }
   },
   "outputs": [],
   "source": [
    "# set 0 (default) to NaN\n",
    "rating_norm = np.nan_to_num(rating_norm)\n",
    "rating_norm"
   ]
  },
  {
   "cell_type": "code",
   "execution_count": null,
   "metadata": {
    "ExecuteTime": {
     "end_time": "2020-02-29T03:56:47.879453Z",
     "start_time": "2020-02-29T03:56:47.858513Z"
    }
   },
   "outputs": [],
   "source": [
    "rating_mean = np.nan_to_num(rating_mean)\n",
    "rating_mean"
   ]
  },
  {
   "cell_type": "markdown",
   "metadata": {},
   "source": [
    "## Build the model"
   ]
  },
  {
   "cell_type": "code",
   "execution_count": null,
   "metadata": {
    "ExecuteTime": {
     "end_time": "2020-02-29T03:59:46.206276Z",
     "start_time": "2020-02-29T03:59:46.020225Z"
    }
   },
   "outputs": [],
   "source": [
    "num_features = 10\n",
    "X_parameters = tf.Variable(\n",
    "    tf.random.uniform([movieNo, num_features]))\n",
    "Theta_parameters = tf.Variable(\n",
    "    tf.random.uniform([userNo, num_features]))\n",
    "#tf.Variables()初始化变量\n",
    "#tf.random.unifrom() used in TF 2.0"
   ]
  },
  {
   "cell_type": "code",
   "execution_count": null,
   "metadata": {
    "ExecuteTime": {
     "end_time": "2020-02-29T03:59:50.609822Z",
     "start_time": "2020-02-29T03:59:49.910518Z"
    }
   },
   "outputs": [],
   "source": [
    "# matmul: dot product a and b, transpose_b: transpose matrix b if True.\n",
    "# tf.reduce_sum: sum function\n",
    "loss = 1 / 2 * tf.reduce_sum(\n",
    "    ((tf.matmul(X_parameters, Theta_parameters, transpose_b=True) -\n",
    "      rating_norm) * record)**2) + 1 / 2 * (tf.reduce_sum(X_parameters**2) +\n",
    "                                            tf.reduce_sum(Theta_parameters**2))\n",
    "#基于内容的推荐算法模型"
   ]
  },
  {
   "cell_type": "code",
   "execution_count": null,
   "metadata": {
    "ExecuteTime": {
     "end_time": "2020-02-29T03:11:03.528970Z",
     "start_time": "2020-02-29T03:09:39.472Z"
    }
   },
   "outputs": [],
   "source": [
    "# Adam algorithm minimize the loss function\n",
    "optimizer = tf.train.AdamOptimizer(1e-4)\n",
    "# https://blog.csdn.net/lenbow/article/details/52218551\n",
    "train = optimizer.minimize(loss)"
   ]
  },
  {
   "cell_type": "markdown",
   "metadata": {},
   "source": [
    "## Train the model"
   ]
  },
  {
   "cell_type": "code",
   "execution_count": null,
   "metadata": {
    "ExecuteTime": {
     "end_time": "2020-02-29T03:11:03.528970Z",
     "start_time": "2020-02-29T03:09:39.474Z"
    }
   },
   "outputs": [],
   "source": [
    "# tf.summary的用法 https://www.cnblogs.com/lyc-seu/p/8647792.html\n",
    "tf.summary.scalar('loss', loss)\n",
    "#用来显示标量信息"
   ]
  },
  {
   "cell_type": "code",
   "execution_count": null,
   "metadata": {
    "ExecuteTime": {
     "end_time": "2020-02-29T03:11:03.528970Z",
     "start_time": "2020-02-29T03:09:39.476Z"
    },
    "code_folding": []
   },
   "outputs": [],
   "source": [
    "# tf.summary.merge_all\n",
    "# merge_all 可以将所有summary全部保存到磁盘，以便tensorboard显示\n",
    "# tensorboard --logdir to show tensorboard\n",
    "summaryMerged = tf.summary.merge_all()\n",
    "\n",
    "filename = './movie_tensorborad'\n",
    "writer = tf.summary.FileWriter(filename)\n",
    "\n",
    "sess = tf.Session()\n",
    "\n",
    "# should use variables_init to init variables when you used tf.Variable() in your program.\n",
    "init = tf.global_variables_initializer()\n",
    "sess.run(init)"
   ]
  },
  {
   "cell_type": "code",
   "execution_count": null,
   "metadata": {
    "ExecuteTime": {
     "end_time": "2020-02-29T03:11:03.528970Z",
     "start_time": "2020-02-29T03:09:39.478Z"
    }
   },
   "outputs": [],
   "source": [
    "for i in range(5000):\n",
    "    _, movie_summary = sess.run([train, summaryMerged])\n",
    "    # 把训练的结果summaryMerged存在movie里\n",
    "    writer.add_summary(movie_summary, i)"
   ]
  },
  {
   "cell_type": "markdown",
   "metadata": {},
   "source": [
    "## Evaluate the model performance"
   ]
  },
  {
   "cell_type": "code",
   "execution_count": null,
   "metadata": {
    "ExecuteTime": {
     "end_time": "2020-02-29T03:11:03.528970Z",
     "start_time": "2020-02-29T03:09:39.480Z"
    }
   },
   "outputs": [],
   "source": [
    "Current_X_parameters, Current_Theta_parameters = sess.run(\n",
    "    [X_parameters, Theta_parameters])\n",
    "# Current_X_parameters为用户内容矩阵，Current_Theta_parameters用户喜好矩阵\n",
    "predicts = np.dot(Current_X_parameters,\n",
    "                  Current_Theta_parameters.T) + rating_mean\n",
    "# dot函数是np中的矩阵乘法，np.dot(x,y) 等价于 x.dot(y)\n",
    "errors = np.sqrt(np.sum((predicts - rating)**2))\n",
    "# sqrt(arr) ,计算各元素的平方根\n",
    "errors"
   ]
  },
  {
   "cell_type": "markdown",
   "metadata": {},
   "source": [
    "## Build the recommend system"
   ]
  },
  {
   "cell_type": "code",
   "execution_count": null,
   "metadata": {},
   "outputs": [],
   "source": [
    "user_id = input('您要想哪位用户进行推荐？请输入用户编号：')\n",
    "sortedResult = predicts[:, int(user_id)].argsort()[::-1]\n",
    "# argsort()函数返回的是数组值从小到大的索引值; argsort()[::-1] 返回的是数组值从大到小的索引值\n",
    "idx = 0\n",
    "print('为该用户推荐的评分最高的20部电影是：'.center(80,'='))\n",
    "# center() 返回一个原字符串居中,并使用空格填充至长度 width 的新字符串。默认填充字符为空格。\n",
    "for i in sortedResult:\n",
    "    print('评分: %.2f, 电影名: %s' % (predicts[i,int(user_id)],movies_df.iloc[i]['title']))\n",
    "    # .iloc的用法：https://www.cnblogs.com/harvey888/p/6006200.html\n",
    "    idx += 1\n",
    "    if idx == 20:\n",
    "        break"
   ]
  }
 ],
 "metadata": {
  "kernelspec": {
   "display_name": "Python 3",
   "language": "python",
   "name": "python3"
  },
  "language_info": {
   "codemirror_mode": {
    "name": "ipython",
    "version": 3
   },
   "file_extension": ".py",
   "mimetype": "text/x-python",
   "name": "python",
   "nbconvert_exporter": "python",
   "pygments_lexer": "ipython3",
   "version": "3.7.4"
  },
  "toc": {
   "base_numbering": 1,
   "nav_menu": {},
   "number_sections": true,
   "sideBar": true,
   "skip_h1_title": false,
   "title_cell": "Table of Contents",
   "title_sidebar": "Contents",
   "toc_cell": false,
   "toc_position": {},
   "toc_section_display": true,
   "toc_window_display": false
  }
 },
 "nbformat": 4,
 "nbformat_minor": 2
}
