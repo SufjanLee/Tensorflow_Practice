{
 "cells": [
  {
   "cell_type": "markdown",
   "metadata": {},
   "source": [
    "# Movie_Recommendation\n",
    "## Read the data"
   ]
  },
  {
   "cell_type": "code",
   "execution_count": 22,
   "metadata": {
    "ExecuteTime": {
     "end_time": "2020-02-28T14:26:21.534373Z",
     "start_time": "2020-02-28T14:26:21.520380Z"
    }
   },
   "outputs": [],
   "source": [
    "import pandas as pd\n",
    "import numpy as np\n",
    "import tensorflow as tf"
   ]
  },
  {
   "cell_type": "code",
   "execution_count": 23,
   "metadata": {
    "ExecuteTime": {
     "end_time": "2020-02-28T14:26:27.602498Z",
     "start_time": "2020-02-28T14:26:22.123635Z"
    }
   },
   "outputs": [],
   "source": [
    "ratings_df = pd.read_csv('ml-25m/ratings.csv')\n",
    "movies_df = pd.read_csv('ml-25m/movies.csv')\n",
    "movies_df['movieRow'] = movies_df.index"
   ]
  },
  {
   "cell_type": "code",
   "execution_count": 24,
   "metadata": {
    "ExecuteTime": {
     "end_time": "2020-02-28T14:26:27.633832Z",
     "start_time": "2020-02-28T14:26:27.603516Z"
    }
   },
   "outputs": [
    {
     "data": {
      "text/html": [
       "<div>\n",
       "<style scoped>\n",
       "    .dataframe tbody tr th:only-of-type {\n",
       "        vertical-align: middle;\n",
       "    }\n",
       "\n",
       "    .dataframe tbody tr th {\n",
       "        vertical-align: top;\n",
       "    }\n",
       "\n",
       "    .dataframe thead th {\n",
       "        text-align: right;\n",
       "    }\n",
       "</style>\n",
       "<table border=\"1\" class=\"dataframe\">\n",
       "  <thead>\n",
       "    <tr style=\"text-align: right;\">\n",
       "      <th></th>\n",
       "      <th>userId</th>\n",
       "      <th>movieId</th>\n",
       "      <th>rating</th>\n",
       "      <th>timestamp</th>\n",
       "    </tr>\n",
       "  </thead>\n",
       "  <tbody>\n",
       "    <tr>\n",
       "      <td>25000090</td>\n",
       "      <td>162541</td>\n",
       "      <td>50872</td>\n",
       "      <td>4.5</td>\n",
       "      <td>1240953372</td>\n",
       "    </tr>\n",
       "    <tr>\n",
       "      <td>25000091</td>\n",
       "      <td>162541</td>\n",
       "      <td>55768</td>\n",
       "      <td>2.5</td>\n",
       "      <td>1240951998</td>\n",
       "    </tr>\n",
       "    <tr>\n",
       "      <td>25000092</td>\n",
       "      <td>162541</td>\n",
       "      <td>56176</td>\n",
       "      <td>2.0</td>\n",
       "      <td>1240950697</td>\n",
       "    </tr>\n",
       "    <tr>\n",
       "      <td>25000093</td>\n",
       "      <td>162541</td>\n",
       "      <td>58559</td>\n",
       "      <td>4.0</td>\n",
       "      <td>1240953434</td>\n",
       "    </tr>\n",
       "    <tr>\n",
       "      <td>25000094</td>\n",
       "      <td>162541</td>\n",
       "      <td>63876</td>\n",
       "      <td>5.0</td>\n",
       "      <td>1240952515</td>\n",
       "    </tr>\n",
       "  </tbody>\n",
       "</table>\n",
       "</div>"
      ],
      "text/plain": [
       "          userId  movieId  rating   timestamp\n",
       "25000090  162541    50872     4.5  1240953372\n",
       "25000091  162541    55768     2.5  1240951998\n",
       "25000092  162541    56176     2.0  1240950697\n",
       "25000093  162541    58559     4.0  1240953434\n",
       "25000094  162541    63876     5.0  1240952515"
      ]
     },
     "execution_count": 24,
     "metadata": {},
     "output_type": "execute_result"
    }
   ],
   "source": [
    "ratings_df.tail()"
   ]
  },
  {
   "cell_type": "code",
   "execution_count": 25,
   "metadata": {
    "ExecuteTime": {
     "end_time": "2020-02-28T14:27:13.537247Z",
     "start_time": "2020-02-28T14:27:13.527623Z"
    }
   },
   "outputs": [
    {
     "data": {
      "text/html": [
       "<div>\n",
       "<style scoped>\n",
       "    .dataframe tbody tr th:only-of-type {\n",
       "        vertical-align: middle;\n",
       "    }\n",
       "\n",
       "    .dataframe tbody tr th {\n",
       "        vertical-align: top;\n",
       "    }\n",
       "\n",
       "    .dataframe thead th {\n",
       "        text-align: right;\n",
       "    }\n",
       "</style>\n",
       "<table border=\"1\" class=\"dataframe\">\n",
       "  <thead>\n",
       "    <tr style=\"text-align: right;\">\n",
       "      <th></th>\n",
       "      <th>movieId</th>\n",
       "      <th>title</th>\n",
       "      <th>genres</th>\n",
       "      <th>movieRow</th>\n",
       "    </tr>\n",
       "  </thead>\n",
       "  <tbody>\n",
       "    <tr>\n",
       "      <td>62418</td>\n",
       "      <td>209157</td>\n",
       "      <td>We (2018)</td>\n",
       "      <td>Drama</td>\n",
       "      <td>62418</td>\n",
       "    </tr>\n",
       "    <tr>\n",
       "      <td>62419</td>\n",
       "      <td>209159</td>\n",
       "      <td>Window of the Soul (2001)</td>\n",
       "      <td>Documentary</td>\n",
       "      <td>62419</td>\n",
       "    </tr>\n",
       "    <tr>\n",
       "      <td>62420</td>\n",
       "      <td>209163</td>\n",
       "      <td>Bad Poems (2018)</td>\n",
       "      <td>Comedy|Drama</td>\n",
       "      <td>62420</td>\n",
       "    </tr>\n",
       "    <tr>\n",
       "      <td>62421</td>\n",
       "      <td>209169</td>\n",
       "      <td>A Girl Thing (2001)</td>\n",
       "      <td>(no genres listed)</td>\n",
       "      <td>62421</td>\n",
       "    </tr>\n",
       "    <tr>\n",
       "      <td>62422</td>\n",
       "      <td>209171</td>\n",
       "      <td>Women of Devil's Island (1962)</td>\n",
       "      <td>Action|Adventure|Drama</td>\n",
       "      <td>62422</td>\n",
       "    </tr>\n",
       "  </tbody>\n",
       "</table>\n",
       "</div>"
      ],
      "text/plain": [
       "       movieId                           title                  genres  \\\n",
       "62418   209157                       We (2018)                   Drama   \n",
       "62419   209159       Window of the Soul (2001)             Documentary   \n",
       "62420   209163                Bad Poems (2018)            Comedy|Drama   \n",
       "62421   209169             A Girl Thing (2001)      (no genres listed)   \n",
       "62422   209171  Women of Devil's Island (1962)  Action|Adventure|Drama   \n",
       "\n",
       "       movieRow  \n",
       "62418     62418  \n",
       "62419     62419  \n",
       "62420     62420  \n",
       "62421     62421  \n",
       "62422     62422  "
      ]
     },
     "execution_count": 25,
     "metadata": {},
     "output_type": "execute_result"
    }
   ],
   "source": [
    "movies_df.tail()"
   ]
  },
  {
   "cell_type": "code",
   "execution_count": 26,
   "metadata": {
    "ExecuteTime": {
     "end_time": "2020-02-28T14:27:26.202199Z",
     "start_time": "2020-02-28T14:27:26.183667Z"
    }
   },
   "outputs": [
    {
     "data": {
      "text/html": [
       "<div>\n",
       "<style scoped>\n",
       "    .dataframe tbody tr th:only-of-type {\n",
       "        vertical-align: middle;\n",
       "    }\n",
       "\n",
       "    .dataframe tbody tr th {\n",
       "        vertical-align: top;\n",
       "    }\n",
       "\n",
       "    .dataframe thead th {\n",
       "        text-align: right;\n",
       "    }\n",
       "</style>\n",
       "<table border=\"1\" class=\"dataframe\">\n",
       "  <thead>\n",
       "    <tr style=\"text-align: right;\">\n",
       "      <th></th>\n",
       "      <th>userId</th>\n",
       "      <th>movieId</th>\n",
       "      <th>rating</th>\n",
       "      <th>timestamp</th>\n",
       "    </tr>\n",
       "  </thead>\n",
       "  <tbody>\n",
       "    <tr>\n",
       "      <td>999995</td>\n",
       "      <td>6747</td>\n",
       "      <td>3566</td>\n",
       "      <td>2.0</td>\n",
       "      <td>1008568732</td>\n",
       "    </tr>\n",
       "    <tr>\n",
       "      <td>999996</td>\n",
       "      <td>6747</td>\n",
       "      <td>3578</td>\n",
       "      <td>5.0</td>\n",
       "      <td>998488633</td>\n",
       "    </tr>\n",
       "    <tr>\n",
       "      <td>999997</td>\n",
       "      <td>6747</td>\n",
       "      <td>3593</td>\n",
       "      <td>2.0</td>\n",
       "      <td>997996934</td>\n",
       "    </tr>\n",
       "    <tr>\n",
       "      <td>999998</td>\n",
       "      <td>6747</td>\n",
       "      <td>3615</td>\n",
       "      <td>4.0</td>\n",
       "      <td>998592422</td>\n",
       "    </tr>\n",
       "    <tr>\n",
       "      <td>999999</td>\n",
       "      <td>6747</td>\n",
       "      <td>3623</td>\n",
       "      <td>5.0</td>\n",
       "      <td>997996257</td>\n",
       "    </tr>\n",
       "  </tbody>\n",
       "</table>\n",
       "</div>"
      ],
      "text/plain": [
       "        userId  movieId  rating   timestamp\n",
       "999995    6747     3566     2.0  1008568732\n",
       "999996    6747     3578     5.0   998488633\n",
       "999997    6747     3593     2.0   997996934\n",
       "999998    6747     3615     4.0   998592422\n",
       "999999    6747     3623     5.0   997996257"
      ]
     },
     "execution_count": 26,
     "metadata": {},
     "output_type": "execute_result"
    }
   ],
   "source": [
    "ratings_df = ratings_df.iloc[:1000000]\n",
    "ratings_df.tail()"
   ]
  },
  {
   "cell_type": "code",
   "execution_count": 27,
   "metadata": {
    "ExecuteTime": {
     "end_time": "2020-02-28T14:27:26.831922Z",
     "start_time": "2020-02-28T14:27:26.808427Z"
    }
   },
   "outputs": [
    {
     "data": {
      "text/html": [
       "<div>\n",
       "<style scoped>\n",
       "    .dataframe tbody tr th:only-of-type {\n",
       "        vertical-align: middle;\n",
       "    }\n",
       "\n",
       "    .dataframe tbody tr th {\n",
       "        vertical-align: top;\n",
       "    }\n",
       "\n",
       "    .dataframe thead th {\n",
       "        text-align: right;\n",
       "    }\n",
       "</style>\n",
       "<table border=\"1\" class=\"dataframe\">\n",
       "  <thead>\n",
       "    <tr style=\"text-align: right;\">\n",
       "      <th></th>\n",
       "      <th>movieRow</th>\n",
       "      <th>movieId</th>\n",
       "      <th>title</th>\n",
       "    </tr>\n",
       "  </thead>\n",
       "  <tbody>\n",
       "    <tr>\n",
       "      <td>62418</td>\n",
       "      <td>62418</td>\n",
       "      <td>209157</td>\n",
       "      <td>We (2018)</td>\n",
       "    </tr>\n",
       "    <tr>\n",
       "      <td>62419</td>\n",
       "      <td>62419</td>\n",
       "      <td>209159</td>\n",
       "      <td>Window of the Soul (2001)</td>\n",
       "    </tr>\n",
       "    <tr>\n",
       "      <td>62420</td>\n",
       "      <td>62420</td>\n",
       "      <td>209163</td>\n",
       "      <td>Bad Poems (2018)</td>\n",
       "    </tr>\n",
       "    <tr>\n",
       "      <td>62421</td>\n",
       "      <td>62421</td>\n",
       "      <td>209169</td>\n",
       "      <td>A Girl Thing (2001)</td>\n",
       "    </tr>\n",
       "    <tr>\n",
       "      <td>62422</td>\n",
       "      <td>62422</td>\n",
       "      <td>209171</td>\n",
       "      <td>Women of Devil's Island (1962)</td>\n",
       "    </tr>\n",
       "  </tbody>\n",
       "</table>\n",
       "</div>"
      ],
      "text/plain": [
       "       movieRow  movieId                           title\n",
       "62418     62418   209157                       We (2018)\n",
       "62419     62419   209159       Window of the Soul (2001)\n",
       "62420     62420   209163                Bad Poems (2018)\n",
       "62421     62421   209169             A Girl Thing (2001)\n",
       "62422     62422   209171  Women of Devil's Island (1962)"
      ]
     },
     "execution_count": 27,
     "metadata": {},
     "output_type": "execute_result"
    }
   ],
   "source": [
    "## select attributes from movies_df\n",
    "movies_df = movies_df[['movieRow', 'movieId', 'title']]\n",
    "movies_df.tail()"
   ]
  },
  {
   "cell_type": "code",
   "execution_count": 28,
   "metadata": {
    "ExecuteTime": {
     "end_time": "2020-02-28T14:27:30.835722Z",
     "start_time": "2020-02-28T14:27:30.565951Z"
    }
   },
   "outputs": [],
   "source": [
    "#将rating_df中的movieId替换为行号\n",
    "ratings_df = pd.merge(ratings_df, movies_df, on='movieId')\n",
    "ratings_df = ratings_df[['userId', 'movieRow', 'rating']]"
   ]
  },
  {
   "cell_type": "code",
   "execution_count": 29,
   "metadata": {
    "ExecuteTime": {
     "end_time": "2020-02-28T14:27:33.657499Z",
     "start_time": "2020-02-28T14:27:33.645420Z"
    }
   },
   "outputs": [
    {
     "data": {
      "text/html": [
       "<div>\n",
       "<style scoped>\n",
       "    .dataframe tbody tr th:only-of-type {\n",
       "        vertical-align: middle;\n",
       "    }\n",
       "\n",
       "    .dataframe tbody tr th {\n",
       "        vertical-align: top;\n",
       "    }\n",
       "\n",
       "    .dataframe thead th {\n",
       "        text-align: right;\n",
       "    }\n",
       "</style>\n",
       "<table border=\"1\" class=\"dataframe\">\n",
       "  <thead>\n",
       "    <tr style=\"text-align: right;\">\n",
       "      <th></th>\n",
       "      <th>userId</th>\n",
       "      <th>movieRow</th>\n",
       "      <th>rating</th>\n",
       "    </tr>\n",
       "  </thead>\n",
       "  <tbody>\n",
       "    <tr>\n",
       "      <td>0</td>\n",
       "      <td>1</td>\n",
       "      <td>292</td>\n",
       "      <td>5.0</td>\n",
       "    </tr>\n",
       "    <tr>\n",
       "      <td>1</td>\n",
       "      <td>3</td>\n",
       "      <td>292</td>\n",
       "      <td>5.0</td>\n",
       "    </tr>\n",
       "    <tr>\n",
       "      <td>2</td>\n",
       "      <td>4</td>\n",
       "      <td>292</td>\n",
       "      <td>4.0</td>\n",
       "    </tr>\n",
       "    <tr>\n",
       "      <td>3</td>\n",
       "      <td>5</td>\n",
       "      <td>292</td>\n",
       "      <td>4.0</td>\n",
       "    </tr>\n",
       "    <tr>\n",
       "      <td>4</td>\n",
       "      <td>7</td>\n",
       "      <td>292</td>\n",
       "      <td>4.0</td>\n",
       "    </tr>\n",
       "    <tr>\n",
       "      <td>...</td>\n",
       "      <td>...</td>\n",
       "      <td>...</td>\n",
       "      <td>...</td>\n",
       "    </tr>\n",
       "    <tr>\n",
       "      <td>999995</td>\n",
       "      <td>6729</td>\n",
       "      <td>48888</td>\n",
       "      <td>4.0</td>\n",
       "    </tr>\n",
       "    <tr>\n",
       "      <td>999996</td>\n",
       "      <td>6730</td>\n",
       "      <td>14593</td>\n",
       "      <td>4.5</td>\n",
       "    </tr>\n",
       "    <tr>\n",
       "      <td>999997</td>\n",
       "      <td>6730</td>\n",
       "      <td>16252</td>\n",
       "      <td>5.0</td>\n",
       "    </tr>\n",
       "    <tr>\n",
       "      <td>999998</td>\n",
       "      <td>6730</td>\n",
       "      <td>19144</td>\n",
       "      <td>4.0</td>\n",
       "    </tr>\n",
       "    <tr>\n",
       "      <td>999999</td>\n",
       "      <td>6736</td>\n",
       "      <td>16155</td>\n",
       "      <td>4.0</td>\n",
       "    </tr>\n",
       "  </tbody>\n",
       "</table>\n",
       "<p>1000000 rows × 3 columns</p>\n",
       "</div>"
      ],
      "text/plain": [
       "        userId  movieRow  rating\n",
       "0            1       292     5.0\n",
       "1            3       292     5.0\n",
       "2            4       292     4.0\n",
       "3            5       292     4.0\n",
       "4            7       292     4.0\n",
       "...        ...       ...     ...\n",
       "999995    6729     48888     4.0\n",
       "999996    6730     14593     4.5\n",
       "999997    6730     16252     5.0\n",
       "999998    6730     19144     4.0\n",
       "999999    6736     16155     4.0\n",
       "\n",
       "[1000000 rows x 3 columns]"
      ]
     },
     "execution_count": 29,
     "metadata": {},
     "output_type": "execute_result"
    }
   ],
   "source": [
    "ratings_df"
   ]
  },
  {
   "cell_type": "code",
   "execution_count": 30,
   "metadata": {
    "ExecuteTime": {
     "end_time": "2020-02-28T14:27:49.875491Z",
     "start_time": "2020-02-28T14:27:49.856388Z"
    }
   },
   "outputs": [
    {
     "name": "stdout",
     "output_type": "stream",
     "text": [
      "max userNo: 6748,min movieNo: 62375\n"
     ]
    }
   ],
   "source": [
    "# 获取最大用户数目及电影数目\n",
    "userNo = ratings_df['userId'].max() + 1\n",
    "movieNo = ratings_df['movieRow'].max() + 1\n",
    "print('max userNo: {},min movieNo: {}'.format(userNo, movieNo))"
   ]
  },
  {
   "cell_type": "code",
   "execution_count": 43,
   "metadata": {
    "ExecuteTime": {
     "end_time": "2020-02-28T14:50:43.818135Z",
     "start_time": "2020-02-28T14:49:49.610930Z"
    }
   },
   "outputs": [
    {
     "data": {
      "text/plain": [
       "array([[0. , 0. , 3.5, ..., 0. , 0. , 5. ],\n",
       "       [0. , 0. , 0. , ..., 4. , 0. , 3. ],\n",
       "       [0. , 0. , 0. , ..., 0. , 0. , 3. ],\n",
       "       ...,\n",
       "       [0. , 0. , 0. , ..., 0. , 0. , 0. ],\n",
       "       [0. , 0. , 0. , ..., 0. , 0. , 0. ],\n",
       "       [0. , 0. , 0. , ..., 0. , 0. , 0. ]])"
      ]
     },
     "execution_count": 43,
     "metadata": {},
     "output_type": "execute_result"
    }
   ],
   "source": [
    "# create a matrix: row movies, columns users\n",
    "rating = np.zeros((movieNo, userNo))\n",
    "\n",
    "flag = 0\n",
    "ratings_df_length = np.shape(ratings_df)[0]\n",
    "#查看矩阵ratings_df的第一维度是多少\n",
    "# interrows（），对表格ratings_df进行遍历\n",
    "for index, row in ratings_df.iterrows():\n",
    "    #     print(index)\n",
    "    #     print(row)\n",
    "    # 将ratings_df表里的'movieRow'和'userId'列，填上row的‘评分’\n",
    "    rating[int(row['movieRow']), int(row['userId'])] = row['rating']\n",
    "rating"
   ]
  },
  {
   "cell_type": "code",
   "execution_count": 47,
   "metadata": {
    "ExecuteTime": {
     "end_time": "2020-02-28T15:02:31.983133Z",
     "start_time": "2020-02-28T15:02:28.359761Z"
    }
   },
   "outputs": [
    {
     "name": "stdout",
     "output_type": "stream",
     "text": [
      "[[False False  True ... False False  True]\n",
      " [False False False ...  True False  True]\n",
      " [False False False ... False False  True]\n",
      " ...\n",
      " [False False False ... False False False]\n",
      " [False False False ... False False False]\n",
      " [False False False ... False False False]]\n",
      "[[0 0 1 ... 0 0 1]\n",
      " [0 0 0 ... 1 0 1]\n",
      " [0 0 0 ... 0 0 1]\n",
      " ...\n",
      " [0 0 0 ... 0 0 0]\n",
      " [0 0 0 ... 0 0 0]\n",
      " [0 0 0 ... 0 0 0]]\n"
     ]
    }
   ],
   "source": [
    "record = rating > 0\n",
    "print(record)\n",
    "record = np.array(record,\n",
    "                  dtype=int)  #将record的布尔型转化为0和1,0:用户没有对此电影评分；1：用户对此电影进行了评分\n",
    "print(record)"
   ]
  },
  {
   "cell_type": "code",
   "execution_count": 54,
   "metadata": {
    "ExecuteTime": {
     "end_time": "2020-02-28T15:10:37.644020Z",
     "start_time": "2020-02-28T15:10:37.637996Z"
    }
   },
   "outputs": [],
   "source": [
    "def normalizeRatings(rating, record):\n",
    "    # m: No. of movies\n",
    "    # n: No. of users\n",
    "    m, n = rating.shape\n",
    "\n",
    "    rating_mean = np.zeros((m, 1))\n",
    "    # 每部电影的平均得分\n",
    "    rating_norm = np.zeros((m, n))\n",
    "    # 处理过的评分\n",
    "    for i in range(m):\n",
    "        # all indeces of records with ratings\n",
    "        idx = record[i, :] != 0\n",
    "        \n",
    "        # calculate mean rating of each movie\n",
    "        rating_mean[i] = np.mean(rating[i, idx])\n",
    "        \n",
    "        # normal = rating - mean\n",
    "        rating_norm[i, idx] -= rating_mean[i]\n",
    "        \n",
    "    return rating_norm, rating_mean"
   ]
  },
  {
   "cell_type": "code",
   "execution_count": 55,
   "metadata": {
    "ExecuteTime": {
     "end_time": "2020-02-28T15:10:47.065525Z",
     "start_time": "2020-02-28T15:10:44.541506Z"
    }
   },
   "outputs": [
    {
     "name": "stderr",
     "output_type": "stream",
     "text": [
      "E:\\anaconda\\lib\\site-packages\\numpy\\core\\fromnumeric.py:3118: RuntimeWarning: Mean of empty slice.\n",
      "  out=out, **kwargs)\n",
      "E:\\anaconda\\lib\\site-packages\\numpy\\core\\_methods.py:85: RuntimeWarning: invalid value encountered in double_scalars\n",
      "  ret = ret.dtype.type(ret / rcount)\n"
     ]
    }
   ],
   "source": [
    "rating_norm, rating_mean = normalizeRatings(rating, record)"
   ]
  },
  {
   "cell_type": "code",
   "execution_count": 56,
   "metadata": {
    "ExecuteTime": {
     "end_time": "2020-02-28T15:10:51.818238Z",
     "start_time": "2020-02-28T15:10:51.811285Z"
    }
   },
   "outputs": [
    {
     "data": {
      "text/plain": [
       "array([[3.89355386],\n",
       "       [3.31018519],\n",
       "       [3.16276803],\n",
       "       ...,\n",
       "       [       nan],\n",
       "       [       nan],\n",
       "       [4.        ]])"
      ]
     },
     "execution_count": 56,
     "metadata": {},
     "output_type": "execute_result"
    }
   ],
   "source": [
    "rating_mean"
   ]
  },
  {
   "cell_type": "code",
   "execution_count": 57,
   "metadata": {
    "ExecuteTime": {
     "end_time": "2020-02-28T15:10:52.716055Z",
     "start_time": "2020-02-28T15:10:52.710729Z"
    }
   },
   "outputs": [
    {
     "data": {
      "text/plain": [
       "array([[ 0.        ,  0.        , -3.89355386, ...,  0.        ,\n",
       "         0.        , -3.89355386],\n",
       "       [ 0.        ,  0.        ,  0.        , ..., -3.31018519,\n",
       "         0.        , -3.31018519],\n",
       "       [ 0.        ,  0.        ,  0.        , ...,  0.        ,\n",
       "         0.        , -3.16276803],\n",
       "       ...,\n",
       "       [ 0.        ,  0.        ,  0.        , ...,  0.        ,\n",
       "         0.        ,  0.        ],\n",
       "       [ 0.        ,  0.        ,  0.        , ...,  0.        ,\n",
       "         0.        ,  0.        ],\n",
       "       [ 0.        ,  0.        ,  0.        , ...,  0.        ,\n",
       "         0.        ,  0.        ]])"
      ]
     },
     "execution_count": 57,
     "metadata": {},
     "output_type": "execute_result"
    }
   ],
   "source": [
    "rating_norm"
   ]
  },
  {
   "cell_type": "code",
   "execution_count": 58,
   "metadata": {
    "ExecuteTime": {
     "end_time": "2020-02-28T15:11:48.210971Z",
     "start_time": "2020-02-28T15:11:39.192989Z"
    }
   },
   "outputs": [
    {
     "data": {
      "text/plain": [
       "array([[ 0.        ,  0.        , -3.89355386, ...,  0.        ,\n",
       "         0.        , -3.89355386],\n",
       "       [ 0.        ,  0.        ,  0.        , ..., -3.31018519,\n",
       "         0.        , -3.31018519],\n",
       "       [ 0.        ,  0.        ,  0.        , ...,  0.        ,\n",
       "         0.        , -3.16276803],\n",
       "       ...,\n",
       "       [ 0.        ,  0.        ,  0.        , ...,  0.        ,\n",
       "         0.        ,  0.        ],\n",
       "       [ 0.        ,  0.        ,  0.        , ...,  0.        ,\n",
       "         0.        ,  0.        ],\n",
       "       [ 0.        ,  0.        ,  0.        , ...,  0.        ,\n",
       "         0.        ,  0.        ]])"
      ]
     },
     "execution_count": 58,
     "metadata": {},
     "output_type": "execute_result"
    }
   ],
   "source": [
    "# set 0 (default) to NaN\n",
    "rating_norm = np.nan_to_num(rating_norm)\n",
    "rating_norm"
   ]
  },
  {
   "cell_type": "code",
   "execution_count": 60,
   "metadata": {
    "ExecuteTime": {
     "end_time": "2020-02-28T15:13:19.483426Z",
     "start_time": "2020-02-28T15:13:19.466309Z"
    }
   },
   "outputs": [
    {
     "data": {
      "text/plain": [
       "array([[3.89355386],\n",
       "       [3.31018519],\n",
       "       [3.16276803],\n",
       "       ...,\n",
       "       [0.        ],\n",
       "       [0.        ],\n",
       "       [4.        ]])"
      ]
     },
     "execution_count": 60,
     "metadata": {},
     "output_type": "execute_result"
    }
   ],
   "source": [
    "rating_mean = np.nan_to_num(rating_mean)\n",
    "rating_mean"
   ]
  },
  {
   "cell_type": "code",
   "execution_count": null,
   "metadata": {},
   "outputs": [],
   "source": [
    "num_features = 10\n",
    "X_parameters = tf.Variable(\n",
    "    tf.random_normal([movieNo, num_features], stddev=0.35))\n",
    "Theta_parameters = tf.Variable(\n",
    "    tf.random_normal([userNo, num_features], stddev=0.35))\n",
    "#tf.Variables()初始化变量\n",
    "#tf.random_normal()函数用于从服从指定正太分布的数值中取出指定个数的值，mean: 正态分布的均值。stddev: 正态分布的标准差。dtype: 输出的类型"
   ]
  },
  {
   "cell_type": "code",
   "execution_count": null,
   "metadata": {},
   "outputs": [],
   "source": [
    "loss = 1 / 2 * tf.reduce_sum(\n",
    "    ((tf.matmul(X_parameters, Theta_parameters, transpose_b=True) -\n",
    "      rating_norm) * record)**2) + 1 / 2 * (tf.reduce_sum(X_parameters**2) +\n",
    "                                            tf.reduce_sum(Theta_parameters**2))\n",
    "#基于内容的推荐算法模型"
   ]
  },
  {
   "cell_type": "code",
   "execution_count": null,
   "metadata": {},
   "outputs": [],
   "source": [
    "optimizer = tf.train.AdamOptimizer(1e-4)\n",
    "# https://blog.csdn.net/lenbow/article/details/52218551\n",
    "train = optimizer.minimize(loss)\n",
    "# Optimizer.minimize对一个损失变量基本上做两件事\n",
    "# 它计算相对于模型参数的损失梯度。\n",
    "# 然后应用计算出的梯度来更新变量"
   ]
  },
  {
   "cell_type": "code",
   "execution_count": null,
   "metadata": {},
   "outputs": [],
   "source": []
  }
 ],
 "metadata": {
  "kernelspec": {
   "display_name": "Python 3",
   "language": "python",
   "name": "python3"
  },
  "language_info": {
   "codemirror_mode": {
    "name": "ipython",
    "version": 3
   },
   "file_extension": ".py",
   "mimetype": "text/x-python",
   "name": "python",
   "nbconvert_exporter": "python",
   "pygments_lexer": "ipython3",
   "version": "3.7.4"
  },
  "toc": {
   "base_numbering": 1,
   "nav_menu": {},
   "number_sections": true,
   "sideBar": true,
   "skip_h1_title": false,
   "title_cell": "Table of Contents",
   "title_sidebar": "Contents",
   "toc_cell": false,
   "toc_position": {},
   "toc_section_display": true,
   "toc_window_display": false
  }
 },
 "nbformat": 4,
 "nbformat_minor": 2
}
